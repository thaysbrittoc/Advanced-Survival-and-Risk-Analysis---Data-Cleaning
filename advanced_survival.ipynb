{
 "cells": [
  {
   "cell_type": "markdown",
   "metadata": {},
   "source": [
    "##Data Cleaning\n",
    "##Advanced Survival and Risk Analysis \n",
    "    \n",
    "****IN PROGRESS****"
   ]
  },
  {
   "cell_type": "code",
   "execution_count": 1,
   "metadata": {
    "collapsed": true
   },
   "outputs": [],
   "source": [
    "# importing packages\n",
    "import pandas as pd \n",
    "import numpy as np\n",
    "import difflib as diff\n",
    "\n",
    "\n",
    "# loading the data frame \n",
    "score = pd.read_excel('~/Desktop/unsw/Projects/Data Cleaning/Training_data.xlsx')\n"
   ]
  },
  {
   "cell_type": "markdown",
   "metadata": {},
   "source": [
    "Now lets analyse the head of the data to see what it does look like:"
   ]
  },
  {
   "cell_type": "code",
   "execution_count": 2,
   "metadata": {},
   "outputs": [
    {
     "data": {
      "text/html": [
       "<div>\n",
       "<style>\n",
       "    .dataframe thead tr:only-child th {\n",
       "        text-align: right;\n",
       "    }\n",
       "\n",
       "    .dataframe thead th {\n",
       "        text-align: left;\n",
       "    }\n",
       "\n",
       "    .dataframe tbody tr th {\n",
       "        vertical-align: top;\n",
       "    }\n",
       "</style>\n",
       "<table border=\"1\" class=\"dataframe\">\n",
       "  <thead>\n",
       "    <tr style=\"text-align: right;\">\n",
       "      <th></th>\n",
       "      <th>Fruit_Ate</th>\n",
       "      <th>Name</th>\n",
       "      <th>Why_Eat</th>\n",
       "      <th>Where_Eat</th>\n",
       "      <th>How_Fast_Eat</th>\n",
       "      <th>Time_Eatten</th>\n",
       "      <th>Score</th>\n",
       "    </tr>\n",
       "  </thead>\n",
       "  <tbody>\n",
       "    <tr>\n",
       "      <th>0</th>\n",
       "      <td>lychee</td>\n",
       "      <td>Jacky</td>\n",
       "      <td>Lunch or dI_%nner substI_%tute</td>\n",
       "      <td>Home</td>\n",
       "      <td>NaN</td>\n",
       "      <td>4</td>\n",
       "      <td>44459</td>\n",
       "    </tr>\n",
       "    <tr>\n",
       "      <th>1</th>\n",
       "      <td>strawberry</td>\n",
       "      <td>Nicholai</td>\n",
       "      <td>Yu34@mmy so ate it</td>\n",
       "      <td>Family</td>\n",
       "      <td>normally</td>\n",
       "      <td>4</td>\n",
       "      <td>24223.1</td>\n",
       "    </tr>\n",
       "    <tr>\n",
       "      <th>2</th>\n",
       "      <td>nectarine</td>\n",
       "      <td>Rachel</td>\n",
       "      <td>Hungry so ate anything</td>\n",
       "      <td>H\"$\"nging out</td>\n",
       "      <td>slowly</td>\n",
       "      <td>5</td>\n",
       "      <td>30535.4</td>\n",
       "    </tr>\n",
       "    <tr>\n",
       "      <th>3</th>\n",
       "      <td>lychee</td>\n",
       "      <td>Da!!Niel</td>\n",
       "      <td>Lunch or dinner substitute</td>\n",
       "      <td>Home</td>\n",
       "      <td>normally</td>\n",
       "      <td>7</td>\n",
       "      <td>23532.1</td>\n",
       "    </tr>\n",
       "    <tr>\n",
       "      <th>4</th>\n",
       "      <td>lychee</td>\n",
       "      <td>Daniel</td>\n",
       "      <td>Cheapest to buy</td>\n",
       "      <td>Guy/girl friend's place</td>\n",
       "      <td>slowly</td>\n",
       "      <td>14</td>\n",
       "      <td>25474.9</td>\n",
       "    </tr>\n",
       "  </tbody>\n",
       "</table>\n",
       "</div>"
      ],
      "text/plain": [
       "    Fruit_Ate      Name                         Why_Eat  \\\n",
       "0      lychee     Jacky  Lunch or dI_%nner substI_%tute   \n",
       "1  strawberry  Nicholai              Yu34@mmy so ate it   \n",
       "2   nectarine    Rachel          Hungry so ate anything   \n",
       "3      lychee  Da!!Niel      Lunch or dinner substitute   \n",
       "4      lychee    Daniel                 Cheapest to buy   \n",
       "\n",
       "                 Where_Eat How_Fast_Eat Time_Eatten    Score  \n",
       "0                     Home          NaN           4    44459  \n",
       "1                   Family     normally           4  24223.1  \n",
       "2            H\"$\"nging out       slowly           5  30535.4  \n",
       "3                     Home     normally           7  23532.1  \n",
       "4  Guy/girl friend's place       slowly          14  25474.9  "
      ]
     },
     "execution_count": 2,
     "metadata": {},
     "output_type": "execute_result"
    }
   ],
   "source": [
    "#analysing the head of the data\n",
    "score.head()"
   ]
  },
  {
   "cell_type": "markdown",
   "metadata": {},
   "source": [
    "There are some spelling mistakes and also we need to make sure that the Time_Eatten column as well as Score column must be stored as integers as I wish to deal with numbers. "
   ]
  },
  {
   "cell_type": "markdown",
   "metadata": {},
   "source": [
    "Checking the formatation of column names:"
   ]
  },
  {
   "cell_type": "code",
   "execution_count": 3,
   "metadata": {},
   "outputs": [
    {
     "data": {
      "text/plain": [
       "Index(['Fruit_Ate', 'Name', 'Why_Eat', 'Where_Eat', 'How_Fast_Eat',\n",
       "       'Time_Eatten', 'Score'],\n",
       "      dtype='object')"
      ]
     },
     "execution_count": 3,
     "metadata": {},
     "output_type": "execute_result"
    }
   ],
   "source": [
    "# checking the formatation of column names:\n",
    "score.columns"
   ]
  },
  {
   "cell_type": "markdown",
   "metadata": {},
   "source": [
    "Analysing basic information about data such as type of column and non-null entries:"
   ]
  },
  {
   "cell_type": "code",
   "execution_count": 4,
   "metadata": {},
   "outputs": [
    {
     "name": "stdout",
     "output_type": "stream",
     "text": [
      "<class 'pandas.core.frame.DataFrame'>\n",
      "RangeIndex: 37500 entries, 0 to 37499\n",
      "Data columns (total 7 columns):\n",
      "Fruit_Ate       36865 non-null object\n",
      "Name            36864 non-null object\n",
      "Why_Eat         36889 non-null object\n",
      "Where_Eat       36881 non-null object\n",
      "How_Fast_Eat    36841 non-null object\n",
      "Time_Eatten     36884 non-null object\n",
      "Score           37380 non-null object\n",
      "dtypes: object(7)\n",
      "memory usage: 2.0+ MB\n"
     ]
    }
   ],
   "source": [
    "#analysing basic information about data\n",
    "score.info()"
   ]
  },
  {
   "cell_type": "markdown",
   "metadata": {},
   "source": [
    "Both Time_Eatten and Score columns are stored as object, therefore we have to change it to integer type."
   ]
  },
  {
   "cell_type": "code",
   "execution_count": 5,
   "metadata": {},
   "outputs": [
    {
     "data": {
      "text/plain": [
       "16      1596\n",
       "17      1576\n",
       "5       1576\n",
       "13      1564\n",
       "2       1545\n",
       "20      1545\n",
       "12      1542\n",
       "10      1541\n",
       "4       1538\n",
       "18      1535\n",
       "22      1535\n",
       "3       1529\n",
       "24      1521\n",
       "9       1514\n",
       "6       1513\n",
       "19      1510\n",
       "1       1496\n",
       "15      1490\n",
       "11      1485\n",
       "7       1482\n",
       "14      1474\n",
       "23      1466\n",
       "21      1455\n",
       "8       1454\n",
       "NaN      616\n",
       "NILL     190\n",
       "???      174\n",
       "--        38\n",
       "Name: Time_Eatten, dtype: int64"
      ]
     },
     "execution_count": 5,
     "metadata": {},
     "output_type": "execute_result"
    }
   ],
   "source": [
    "# counting the number of times that each different value appear:\n",
    "score.Time_Eatten.value_counts(dropna=False)"
   ]
  },
  {
   "cell_type": "markdown",
   "metadata": {},
   "source": [
    "From that we can see that the observations such as 'Nan', 'NILL', '???' and '--' should be all Nan type which corresponds to missing values. Changing this observations to Nan:"
   ]
  },
  {
   "cell_type": "code",
   "execution_count": 6,
   "metadata": {
    "collapsed": true
   },
   "outputs": [],
   "source": [
    "# grouping 'NILL', '--' and '???' into the missing values:\n",
    "missing_values_char = ['NaN', 'NILL', '???', '--']\n",
    "score['Time_Eatten'].replace(missing_values_char, np.nan, inplace=True)"
   ]
  },
  {
   "cell_type": "code",
   "execution_count": 7,
   "metadata": {},
   "outputs": [
    {
     "data": {
      "text/plain": [
       " 16.0    1596\n",
       " 17.0    1576\n",
       " 5.0     1576\n",
       " 13.0    1564\n",
       " 2.0     1545\n",
       " 20.0    1545\n",
       " 12.0    1542\n",
       " 10.0    1541\n",
       " 4.0     1538\n",
       " 22.0    1535\n",
       " 18.0    1535\n",
       " 3.0     1529\n",
       " 24.0    1521\n",
       " 9.0     1514\n",
       " 6.0     1513\n",
       " 19.0    1510\n",
       " 1.0     1496\n",
       " 15.0    1490\n",
       " 11.0    1485\n",
       " 7.0     1482\n",
       " 14.0    1474\n",
       " 23.0    1466\n",
       " 21.0    1455\n",
       " 8.0     1454\n",
       "NaN      1018\n",
       "Name: Time_Eatten, dtype: int64"
      ]
     },
     "execution_count": 7,
     "metadata": {},
     "output_type": "execute_result"
    }
   ],
   "source": [
    "# counting the number of times that each different value appear:\n",
    "score.Time_Eatten.value_counts(dropna=False)"
   ]
  },
  {
   "cell_type": "markdown",
   "metadata": {},
   "source": [
    "Checking the type of data stored in Time_Eatten column:"
   ]
  },
  {
   "cell_type": "code",
   "execution_count": 8,
   "metadata": {},
   "outputs": [
    {
     "data": {
      "text/plain": [
       "dtype('float64')"
      ]
     },
     "execution_count": 8,
     "metadata": {},
     "output_type": "execute_result"
    }
   ],
   "source": [
    "# checking the type of data stored in Time_Eatten column:\n",
    "score.Time_Eatten.dtype"
   ]
  },
  {
   "cell_type": "markdown",
   "metadata": {},
   "source": [
    "Now we can see that the type of Time_Eatten column has changed to type float automatically. This occured because, previously, the entries corresponded to '???', 'NILL' and '--' was being stored as object as they are strings, so once I changed this entries python recognized the column as type float. "
   ]
  },
  {
   "cell_type": "markdown",
   "metadata": {},
   "source": [
    "I am assuming that all columns in the dataframe will also have entries such '--', 'NILL' and '???' as we had this same pattern on other columns on the dataframe. So we can just change such entries all at once:"
   ]
  },
  {
   "cell_type": "code",
   "execution_count": 9,
   "metadata": {},
   "outputs": [
    {
     "data": {
      "text/html": [
       "<div>\n",
       "<style>\n",
       "    .dataframe thead tr:only-child th {\n",
       "        text-align: right;\n",
       "    }\n",
       "\n",
       "    .dataframe thead th {\n",
       "        text-align: left;\n",
       "    }\n",
       "\n",
       "    .dataframe tbody tr th {\n",
       "        vertical-align: top;\n",
       "    }\n",
       "</style>\n",
       "<table border=\"1\" class=\"dataframe\">\n",
       "  <thead>\n",
       "    <tr style=\"text-align: right;\">\n",
       "      <th></th>\n",
       "      <th>Fruit_Ate</th>\n",
       "      <th>Name</th>\n",
       "      <th>Why_Eat</th>\n",
       "      <th>Where_Eat</th>\n",
       "      <th>How_Fast_Eat</th>\n",
       "      <th>Time_Eatten</th>\n",
       "      <th>Score</th>\n",
       "    </tr>\n",
       "  </thead>\n",
       "  <tbody>\n",
       "    <tr>\n",
       "      <th>0</th>\n",
       "      <td>lychee</td>\n",
       "      <td>Jacky</td>\n",
       "      <td>Lunch or dI_%nner substI_%tute</td>\n",
       "      <td>Home</td>\n",
       "      <td>NaN</td>\n",
       "      <td>4.0</td>\n",
       "      <td>44458.971819</td>\n",
       "    </tr>\n",
       "    <tr>\n",
       "      <th>1</th>\n",
       "      <td>strawberry</td>\n",
       "      <td>Nicholai</td>\n",
       "      <td>Yu34@mmy so ate it</td>\n",
       "      <td>Family</td>\n",
       "      <td>normally</td>\n",
       "      <td>4.0</td>\n",
       "      <td>24223.130916</td>\n",
       "    </tr>\n",
       "    <tr>\n",
       "      <th>2</th>\n",
       "      <td>nectarine</td>\n",
       "      <td>Rachel</td>\n",
       "      <td>Hungry so ate anything</td>\n",
       "      <td>H\"$\"nging out</td>\n",
       "      <td>slowly</td>\n",
       "      <td>5.0</td>\n",
       "      <td>30535.367307</td>\n",
       "    </tr>\n",
       "    <tr>\n",
       "      <th>3</th>\n",
       "      <td>lychee</td>\n",
       "      <td>Da!!Niel</td>\n",
       "      <td>Lunch or dinner substitute</td>\n",
       "      <td>Home</td>\n",
       "      <td>normally</td>\n",
       "      <td>7.0</td>\n",
       "      <td>23532.139183</td>\n",
       "    </tr>\n",
       "    <tr>\n",
       "      <th>4</th>\n",
       "      <td>lychee</td>\n",
       "      <td>Daniel</td>\n",
       "      <td>Cheapest to buy</td>\n",
       "      <td>Guy/girl friend's place</td>\n",
       "      <td>slowly</td>\n",
       "      <td>14.0</td>\n",
       "      <td>25474.862526</td>\n",
       "    </tr>\n",
       "    <tr>\n",
       "      <th>5</th>\n",
       "      <td>banana</td>\n",
       "      <td>Blake</td>\n",
       "      <td>Forced to eat it</td>\n",
       "      <td>Family</td>\n",
       "      <td>slowly</td>\n",
       "      <td>4.0</td>\n",
       "      <td>26105.745075</td>\n",
       "    </tr>\n",
       "    <tr>\n",
       "      <th>6</th>\n",
       "      <td>raspberry</td>\n",
       "      <td>Shu34@ning</td>\n",
       "      <td>Lu34@nch or dinner su34@bstitu34@te</td>\n",
       "      <td>Guy/girl friend's place</td>\n",
       "      <td>slowly</td>\n",
       "      <td>14.0</td>\n",
       "      <td>28053.993205</td>\n",
       "    </tr>\n",
       "    <tr>\n",
       "      <th>7</th>\n",
       "      <td>Loga!!N</td>\n",
       "      <td>Nicholai</td>\n",
       "      <td>Yummy so ate I_%t</td>\n",
       "      <td>Guy/girl friend's place</td>\n",
       "      <td>slowly</td>\n",
       "      <td>10.0</td>\n",
       "      <td>25183.235745</td>\n",
       "    </tr>\n",
       "    <tr>\n",
       "      <th>8</th>\n",
       "      <td>kiwi</td>\n",
       "      <td>Rachel</td>\n",
       "      <td>Forced to eat it</td>\n",
       "      <td>H\"$\"nging out</td>\n",
       "      <td>quickly</td>\n",
       "      <td>19.0</td>\n",
       "      <td>522.313228</td>\n",
       "    </tr>\n",
       "    <tr>\n",
       "      <th>9</th>\n",
       "      <td>apple</td>\n",
       "      <td>Rich\"$\"rd</td>\n",
       "      <td>Hungry so ate anything</td>\n",
       "      <td>NaN</td>\n",
       "      <td>NORMALLY</td>\n",
       "      <td>16.0</td>\n",
       "      <td>1430.848268</td>\n",
       "    </tr>\n",
       "  </tbody>\n",
       "</table>\n",
       "</div>"
      ],
      "text/plain": [
       "    Fruit_Ate        Name                              Why_Eat  \\\n",
       "0      lychee       Jacky       Lunch or dI_%nner substI_%tute   \n",
       "1  strawberry    Nicholai                   Yu34@mmy so ate it   \n",
       "2   nectarine      Rachel               Hungry so ate anything   \n",
       "3      lychee    Da!!Niel           Lunch or dinner substitute   \n",
       "4      lychee      Daniel                      Cheapest to buy   \n",
       "5      banana       Blake                     Forced to eat it   \n",
       "6   raspberry  Shu34@ning  Lu34@nch or dinner su34@bstitu34@te   \n",
       "7     Loga!!N    Nicholai                    Yummy so ate I_%t   \n",
       "8        kiwi      Rachel                     Forced to eat it   \n",
       "9       apple   Rich\"$\"rd               Hungry so ate anything   \n",
       "\n",
       "                 Where_Eat How_Fast_Eat  Time_Eatten         Score  \n",
       "0                     Home          NaN          4.0  44458.971819  \n",
       "1                   Family     normally          4.0  24223.130916  \n",
       "2            H\"$\"nging out       slowly          5.0  30535.367307  \n",
       "3                     Home     normally          7.0  23532.139183  \n",
       "4  Guy/girl friend's place       slowly         14.0  25474.862526  \n",
       "5                   Family       slowly          4.0  26105.745075  \n",
       "6  Guy/girl friend's place       slowly         14.0  28053.993205  \n",
       "7  Guy/girl friend's place       slowly         10.0  25183.235745  \n",
       "8            H\"$\"nging out      quickly         19.0    522.313228  \n",
       "9                      NaN     NORMALLY         16.0   1430.848268  "
      ]
     },
     "execution_count": 9,
     "metadata": {},
     "output_type": "execute_result"
    }
   ],
   "source": [
    "#replacing all '--', 'NILL' and '???' chars by a missing value type entry\n",
    "score.replace(missing_values_char, np.nan, inplace=True)\n",
    "\n",
    "score.head(10)"
   ]
  },
  {
   "cell_type": "markdown",
   "metadata": {},
   "source": [
    "Checking all column types: "
   ]
  },
  {
   "cell_type": "code",
   "execution_count": 10,
   "metadata": {},
   "outputs": [
    {
     "name": "stdout",
     "output_type": "stream",
     "text": [
      "<class 'pandas.core.frame.DataFrame'>\n",
      "RangeIndex: 37500 entries, 0 to 37499\n",
      "Data columns (total 7 columns):\n",
      "Fruit_Ate       36451 non-null object\n",
      "Name            36451 non-null object\n",
      "Why_Eat         36456 non-null object\n",
      "Where_Eat       36476 non-null object\n",
      "How_Fast_Eat    36445 non-null object\n",
      "Time_Eatten     36482 non-null float64\n",
      "Score           37258 non-null float64\n",
      "dtypes: float64(2), object(5)\n",
      "memory usage: 2.0+ MB\n"
     ]
    }
   ],
   "source": [
    "#analysing basic information about data\n",
    "score.info()"
   ]
  },
  {
   "cell_type": "markdown",
   "metadata": {},
   "source": [
    "Now we have Time_Eatten and Score columns stored as floats as we needed."
   ]
  },
  {
   "cell_type": "markdown",
   "metadata": {},
   "source": [
    "Now we change all strings on the data frame into lower case in order to fix possible differences in entries given by the size of the letters."
   ]
  },
  {
   "cell_type": "code",
   "execution_count": 11,
   "metadata": {},
   "outputs": [
    {
     "data": {
      "text/html": [
       "<div>\n",
       "<style>\n",
       "    .dataframe thead tr:only-child th {\n",
       "        text-align: right;\n",
       "    }\n",
       "\n",
       "    .dataframe thead th {\n",
       "        text-align: left;\n",
       "    }\n",
       "\n",
       "    .dataframe tbody tr th {\n",
       "        vertical-align: top;\n",
       "    }\n",
       "</style>\n",
       "<table border=\"1\" class=\"dataframe\">\n",
       "  <thead>\n",
       "    <tr style=\"text-align: right;\">\n",
       "      <th></th>\n",
       "      <th>Fruit_Ate</th>\n",
       "      <th>Name</th>\n",
       "      <th>Why_Eat</th>\n",
       "      <th>Where_Eat</th>\n",
       "      <th>How_Fast_Eat</th>\n",
       "      <th>Time_Eatten</th>\n",
       "      <th>Score</th>\n",
       "    </tr>\n",
       "  </thead>\n",
       "  <tbody>\n",
       "    <tr>\n",
       "      <th>0</th>\n",
       "      <td>lychee</td>\n",
       "      <td>jacky</td>\n",
       "      <td>lunch or di_%nner substi_%tute</td>\n",
       "      <td>home</td>\n",
       "      <td>NaN</td>\n",
       "      <td>4.0</td>\n",
       "      <td>44458.971819</td>\n",
       "    </tr>\n",
       "    <tr>\n",
       "      <th>1</th>\n",
       "      <td>strawberry</td>\n",
       "      <td>nicholai</td>\n",
       "      <td>yu34@mmy so ate it</td>\n",
       "      <td>family</td>\n",
       "      <td>normally</td>\n",
       "      <td>4.0</td>\n",
       "      <td>24223.130916</td>\n",
       "    </tr>\n",
       "    <tr>\n",
       "      <th>2</th>\n",
       "      <td>nectarine</td>\n",
       "      <td>rachel</td>\n",
       "      <td>hungry so ate anything</td>\n",
       "      <td>h\"$\"nging out</td>\n",
       "      <td>slowly</td>\n",
       "      <td>5.0</td>\n",
       "      <td>30535.367307</td>\n",
       "    </tr>\n",
       "    <tr>\n",
       "      <th>3</th>\n",
       "      <td>lychee</td>\n",
       "      <td>da!!niel</td>\n",
       "      <td>lunch or dinner substitute</td>\n",
       "      <td>home</td>\n",
       "      <td>normally</td>\n",
       "      <td>7.0</td>\n",
       "      <td>23532.139183</td>\n",
       "    </tr>\n",
       "    <tr>\n",
       "      <th>4</th>\n",
       "      <td>lychee</td>\n",
       "      <td>daniel</td>\n",
       "      <td>cheapest to buy</td>\n",
       "      <td>guy/girl friend's place</td>\n",
       "      <td>slowly</td>\n",
       "      <td>14.0</td>\n",
       "      <td>25474.862526</td>\n",
       "    </tr>\n",
       "  </tbody>\n",
       "</table>\n",
       "</div>"
      ],
      "text/plain": [
       "    Fruit_Ate      Name                         Why_Eat  \\\n",
       "0      lychee     jacky  lunch or di_%nner substi_%tute   \n",
       "1  strawberry  nicholai              yu34@mmy so ate it   \n",
       "2   nectarine    rachel          hungry so ate anything   \n",
       "3      lychee  da!!niel      lunch or dinner substitute   \n",
       "4      lychee    daniel                 cheapest to buy   \n",
       "\n",
       "                 Where_Eat How_Fast_Eat  Time_Eatten         Score  \n",
       "0                     home          NaN          4.0  44458.971819  \n",
       "1                   family     normally          4.0  24223.130916  \n",
       "2            h\"$\"nging out       slowly          5.0  30535.367307  \n",
       "3                     home     normally          7.0  23532.139183  \n",
       "4  guy/girl friend's place       slowly         14.0  25474.862526  "
      ]
     },
     "execution_count": 11,
     "metadata": {},
     "output_type": "execute_result"
    }
   ],
   "source": [
    "string_type_columns = ['Fruit_Ate', 'Name', 'Why_Eat', 'Where_Eat', 'How_Fast_Eat']\n",
    "\n",
    "for column in string_type_columns:\n",
    "    score[column] = score[column].str.lower()\n",
    "\n",
    "# printing the head of the dataframe to check the changes:\n",
    "score.head()"
   ]
  },
  {
   "cell_type": "markdown",
   "metadata": {},
   "source": [
    "Checking the different types of fruit stored in Fruit_Ate column:"
   ]
  },
  {
   "cell_type": "code",
   "execution_count": 12,
   "metadata": {},
   "outputs": [
    {
     "data": {
      "text/plain": [
       "lychee          2275\n",
       "rockmelon       2256\n",
       "kiwi            2217\n",
       "raspberry       2168\n",
       "peach           2148\n",
       "grape           2110\n",
       "logan           2105\n",
       "apple           2105\n",
       "pear            2103\n",
       "orange          2103\n",
       "strawberry      2085\n",
       "watermelon      2045\n",
       "banana          2033\n",
       "nectarine       1924\n",
       "durian          1894\n",
       "jackfruit       1832\n",
       "NaN             1049\n",
       "jackfrui_%t      114\n",
       "pea!!r           114\n",
       "log\"$\"n          113\n",
       "a!!pple          110\n",
       "gr\"$\"pe          106\n",
       "wa!!termelon     106\n",
       "pe\"$\"ch          105\n",
       "j\"$\"ckfruit      105\n",
       "loga!!n          101\n",
       "gra!!pe          101\n",
       "ora!!nge          99\n",
       "duria!!n          99\n",
       "duri_%an          99\n",
       "pe\"$\"r            98\n",
       "str\"$\"wberry      95\n",
       "necta!!rine       94\n",
       "nect\"$\"rine       91\n",
       "du34@rian         91\n",
       "ja!!ckfruit       91\n",
       "w\"$\"termelon      90\n",
       "ra!!spberry       89\n",
       "jackfru34@it      89\n",
       "r\"$\"spberry       88\n",
       "or\"$\"nge          87\n",
       "stra!!wberry      87\n",
       "ki_%wi_%          86\n",
       "b\"$\"n\"$\"n\"$\"      86\n",
       "ba!!na!!na!!      86\n",
       "\"$\"pple           85\n",
       "pea!!ch           84\n",
       "nectari_%ne       81\n",
       "duri\"$\"n          78\n",
       "Name: Fruit_Ate, dtype: int64"
      ]
     },
     "execution_count": 12,
     "metadata": {},
     "output_type": "execute_result"
    }
   ],
   "source": [
    "# counting occurence of each different fruit:\n",
    "score.Fruit_Ate.value_counts(dropna=False)"
   ]
  },
  {
   "cell_type": "markdown",
   "metadata": {},
   "source": [
    "From that I could see that there are some values stored as 'nill' which I didnt include on the list of missing_values_char. So I will include this value on the list, and substitute 'nill' by np.nan in the whole data frame."
   ]
  },
  {
   "cell_type": "code",
   "execution_count": 13,
   "metadata": {},
   "outputs": [
    {
     "name": "stdout",
     "output_type": "stream",
     "text": [
      "['NaN', 'NILL', '???', '--', 'nill']\n"
     ]
    }
   ],
   "source": [
    "#including 'nill' into missing_values_char list:\n",
    "missing_values_char.append('nill')\n",
    "\n",
    "#checking if missing_values_char list is modified the way that i expect:\n",
    "print(missing_values_char)"
   ]
  },
  {
   "cell_type": "markdown",
   "metadata": {},
   "source": [
    "Now we change 'nill' to a missing value in the whole data frame:"
   ]
  },
  {
   "cell_type": "code",
   "execution_count": 14,
   "metadata": {
    "collapsed": true
   },
   "outputs": [],
   "source": [
    "#replacing all 'nill' chars by a missing value type entry\n",
    "score.replace(missing_values_char, np.nan, inplace=True)"
   ]
  },
  {
   "cell_type": "markdown",
   "metadata": {},
   "source": [
    "Checking the Fruit_Ate column values to see what is changed:"
   ]
  },
  {
   "cell_type": "code",
   "execution_count": 15,
   "metadata": {},
   "outputs": [
    {
     "data": {
      "text/plain": [
       "lychee          2275\n",
       "rockmelon       2256\n",
       "kiwi            2217\n",
       "raspberry       2168\n",
       "peach           2148\n",
       "grape           2110\n",
       "logan           2105\n",
       "apple           2105\n",
       "pear            2103\n",
       "orange          2103\n",
       "strawberry      2085\n",
       "watermelon      2045\n",
       "banana          2033\n",
       "nectarine       1924\n",
       "durian          1894\n",
       "jackfruit       1832\n",
       "NaN             1049\n",
       "jackfrui_%t      114\n",
       "pea!!r           114\n",
       "log\"$\"n          113\n",
       "a!!pple          110\n",
       "gr\"$\"pe          106\n",
       "wa!!termelon     106\n",
       "pe\"$\"ch          105\n",
       "j\"$\"ckfruit      105\n",
       "loga!!n          101\n",
       "gra!!pe          101\n",
       "ora!!nge          99\n",
       "duria!!n          99\n",
       "duri_%an          99\n",
       "pe\"$\"r            98\n",
       "str\"$\"wberry      95\n",
       "necta!!rine       94\n",
       "nect\"$\"rine       91\n",
       "du34@rian         91\n",
       "ja!!ckfruit       91\n",
       "w\"$\"termelon      90\n",
       "ra!!spberry       89\n",
       "jackfru34@it      89\n",
       "r\"$\"spberry       88\n",
       "or\"$\"nge          87\n",
       "stra!!wberry      87\n",
       "ki_%wi_%          86\n",
       "b\"$\"n\"$\"n\"$\"      86\n",
       "ba!!na!!na!!      86\n",
       "\"$\"pple           85\n",
       "pea!!ch           84\n",
       "nectari_%ne       81\n",
       "duri\"$\"n          78\n",
       "Name: Fruit_Ate, dtype: int64"
      ]
     },
     "execution_count": 15,
     "metadata": {},
     "output_type": "execute_result"
    }
   ],
   "source": [
    "# counting occurence of each different fruit:\n",
    "score.Fruit_Ate.value_counts(dropna=False)"
   ]
  },
  {
   "cell_type": "markdown",
   "metadata": {},
   "source": [
    "It is clear that just by removing non-alphabetic characters we are able to get a correct name for fruits in some cases such as 'ora!!nge' which we get 'orange' after removing these non-alphabetic characters. And I will do that on the whole data set, since it is a common issue in another columns as well, as we can see bellow:"
   ]
  },
  {
   "cell_type": "code",
   "execution_count": 16,
   "metadata": {},
   "outputs": [
    {
     "data": {
      "text/html": [
       "<div>\n",
       "<style>\n",
       "    .dataframe thead tr:only-child th {\n",
       "        text-align: right;\n",
       "    }\n",
       "\n",
       "    .dataframe thead th {\n",
       "        text-align: left;\n",
       "    }\n",
       "\n",
       "    .dataframe tbody tr th {\n",
       "        vertical-align: top;\n",
       "    }\n",
       "</style>\n",
       "<table border=\"1\" class=\"dataframe\">\n",
       "  <thead>\n",
       "    <tr style=\"text-align: right;\">\n",
       "      <th></th>\n",
       "      <th>Fruit_Ate</th>\n",
       "      <th>Name</th>\n",
       "      <th>Why_Eat</th>\n",
       "      <th>Where_Eat</th>\n",
       "      <th>How_Fast_Eat</th>\n",
       "      <th>Time_Eatten</th>\n",
       "      <th>Score</th>\n",
       "    </tr>\n",
       "  </thead>\n",
       "  <tbody>\n",
       "    <tr>\n",
       "      <th>0</th>\n",
       "      <td>lychee</td>\n",
       "      <td>jacky</td>\n",
       "      <td>lunch or di_%nner substi_%tute</td>\n",
       "      <td>home</td>\n",
       "      <td>NaN</td>\n",
       "      <td>4.0</td>\n",
       "      <td>44458.971819</td>\n",
       "    </tr>\n",
       "    <tr>\n",
       "      <th>1</th>\n",
       "      <td>strawberry</td>\n",
       "      <td>nicholai</td>\n",
       "      <td>yu34@mmy so ate it</td>\n",
       "      <td>family</td>\n",
       "      <td>normally</td>\n",
       "      <td>4.0</td>\n",
       "      <td>24223.130916</td>\n",
       "    </tr>\n",
       "    <tr>\n",
       "      <th>2</th>\n",
       "      <td>nectarine</td>\n",
       "      <td>rachel</td>\n",
       "      <td>hungry so ate anything</td>\n",
       "      <td>h\"$\"nging out</td>\n",
       "      <td>slowly</td>\n",
       "      <td>5.0</td>\n",
       "      <td>30535.367307</td>\n",
       "    </tr>\n",
       "    <tr>\n",
       "      <th>3</th>\n",
       "      <td>lychee</td>\n",
       "      <td>da!!niel</td>\n",
       "      <td>lunch or dinner substitute</td>\n",
       "      <td>home</td>\n",
       "      <td>normally</td>\n",
       "      <td>7.0</td>\n",
       "      <td>23532.139183</td>\n",
       "    </tr>\n",
       "    <tr>\n",
       "      <th>4</th>\n",
       "      <td>lychee</td>\n",
       "      <td>daniel</td>\n",
       "      <td>cheapest to buy</td>\n",
       "      <td>guy/girl friend's place</td>\n",
       "      <td>slowly</td>\n",
       "      <td>14.0</td>\n",
       "      <td>25474.862526</td>\n",
       "    </tr>\n",
       "  </tbody>\n",
       "</table>\n",
       "</div>"
      ],
      "text/plain": [
       "    Fruit_Ate      Name                         Why_Eat  \\\n",
       "0      lychee     jacky  lunch or di_%nner substi_%tute   \n",
       "1  strawberry  nicholai              yu34@mmy so ate it   \n",
       "2   nectarine    rachel          hungry so ate anything   \n",
       "3      lychee  da!!niel      lunch or dinner substitute   \n",
       "4      lychee    daniel                 cheapest to buy   \n",
       "\n",
       "                 Where_Eat How_Fast_Eat  Time_Eatten         Score  \n",
       "0                     home          NaN          4.0  44458.971819  \n",
       "1                   family     normally          4.0  24223.130916  \n",
       "2            h\"$\"nging out       slowly          5.0  30535.367307  \n",
       "3                     home     normally          7.0  23532.139183  \n",
       "4  guy/girl friend's place       slowly         14.0  25474.862526  "
      ]
     },
     "execution_count": 16,
     "metadata": {},
     "output_type": "execute_result"
    }
   ],
   "source": [
    "score.head()"
   ]
  },
  {
   "cell_type": "code",
   "execution_count": 17,
   "metadata": {
    "collapsed": true
   },
   "outputs": [],
   "source": [
    "# removing all non-alphabetic characters from the whole data frame\n",
    "score.replace(r'[^a-zA-Z\\s]', \"\", regex=True, inplace=True)"
   ]
  },
  {
   "cell_type": "markdown",
   "metadata": {},
   "source": [
    "Now we check if it made the changes that we expect:"
   ]
  },
  {
   "cell_type": "code",
   "execution_count": 18,
   "metadata": {},
   "outputs": [
    {
     "data": {
      "text/html": [
       "<div>\n",
       "<style>\n",
       "    .dataframe thead tr:only-child th {\n",
       "        text-align: right;\n",
       "    }\n",
       "\n",
       "    .dataframe thead th {\n",
       "        text-align: left;\n",
       "    }\n",
       "\n",
       "    .dataframe tbody tr th {\n",
       "        vertical-align: top;\n",
       "    }\n",
       "</style>\n",
       "<table border=\"1\" class=\"dataframe\">\n",
       "  <thead>\n",
       "    <tr style=\"text-align: right;\">\n",
       "      <th></th>\n",
       "      <th>Fruit_Ate</th>\n",
       "      <th>Name</th>\n",
       "      <th>Why_Eat</th>\n",
       "      <th>Where_Eat</th>\n",
       "      <th>How_Fast_Eat</th>\n",
       "      <th>Time_Eatten</th>\n",
       "      <th>Score</th>\n",
       "    </tr>\n",
       "  </thead>\n",
       "  <tbody>\n",
       "    <tr>\n",
       "      <th>0</th>\n",
       "      <td>lychee</td>\n",
       "      <td>jacky</td>\n",
       "      <td>lunch or dinner substitute</td>\n",
       "      <td>home</td>\n",
       "      <td>NaN</td>\n",
       "      <td>4.0</td>\n",
       "      <td>44458.971819</td>\n",
       "    </tr>\n",
       "    <tr>\n",
       "      <th>1</th>\n",
       "      <td>strawberry</td>\n",
       "      <td>nicholai</td>\n",
       "      <td>yummy so ate it</td>\n",
       "      <td>family</td>\n",
       "      <td>normally</td>\n",
       "      <td>4.0</td>\n",
       "      <td>24223.130916</td>\n",
       "    </tr>\n",
       "    <tr>\n",
       "      <th>2</th>\n",
       "      <td>nectarine</td>\n",
       "      <td>rachel</td>\n",
       "      <td>hungry so ate anything</td>\n",
       "      <td>hnging out</td>\n",
       "      <td>slowly</td>\n",
       "      <td>5.0</td>\n",
       "      <td>30535.367307</td>\n",
       "    </tr>\n",
       "    <tr>\n",
       "      <th>3</th>\n",
       "      <td>lychee</td>\n",
       "      <td>daniel</td>\n",
       "      <td>lunch or dinner substitute</td>\n",
       "      <td>home</td>\n",
       "      <td>normally</td>\n",
       "      <td>7.0</td>\n",
       "      <td>23532.139183</td>\n",
       "    </tr>\n",
       "    <tr>\n",
       "      <th>4</th>\n",
       "      <td>lychee</td>\n",
       "      <td>daniel</td>\n",
       "      <td>cheapest to buy</td>\n",
       "      <td>guygirl friends place</td>\n",
       "      <td>slowly</td>\n",
       "      <td>14.0</td>\n",
       "      <td>25474.862526</td>\n",
       "    </tr>\n",
       "  </tbody>\n",
       "</table>\n",
       "</div>"
      ],
      "text/plain": [
       "    Fruit_Ate      Name                     Why_Eat              Where_Eat  \\\n",
       "0      lychee     jacky  lunch or dinner substitute                   home   \n",
       "1  strawberry  nicholai             yummy so ate it                 family   \n",
       "2   nectarine    rachel      hungry so ate anything             hnging out   \n",
       "3      lychee    daniel  lunch or dinner substitute                   home   \n",
       "4      lychee    daniel             cheapest to buy  guygirl friends place   \n",
       "\n",
       "  How_Fast_Eat  Time_Eatten         Score  \n",
       "0          NaN          4.0  44458.971819  \n",
       "1     normally          4.0  24223.130916  \n",
       "2       slowly          5.0  30535.367307  \n",
       "3     normally          7.0  23532.139183  \n",
       "4       slowly         14.0  25474.862526  "
      ]
     },
     "execution_count": 18,
     "metadata": {},
     "output_type": "execute_result"
    }
   ],
   "source": [
    "# checking what is changed:\n",
    "score.head()"
   ]
  },
  {
   "cell_type": "markdown",
   "metadata": {},
   "source": [
    "Checking the Fruit_Ate column:"
   ]
  },
  {
   "cell_type": "code",
   "execution_count": 19,
   "metadata": {},
   "outputs": [
    {
     "data": {
      "text/plain": [
       "kiwi          2303\n",
       "lychee        2275\n",
       "raspberry     2257\n",
       "rockmelon     2256\n",
       "peach         2232\n",
       "pear          2217\n",
       "apple         2215\n",
       "grape         2211\n",
       "logan         2206\n",
       "orange        2202\n",
       "durian        2183\n",
       "strawberry    2172\n",
       "watermelon    2151\n",
       "jackfruit     2126\n",
       "banana        2119\n",
       "nectarine     2099\n",
       "NaN           1049\n",
       "logn           113\n",
       "grpe           106\n",
       "jckfruit       105\n",
       "pech           105\n",
       "per             98\n",
       "strwberry       95\n",
       "nectrine        91\n",
       "wtermelon       90\n",
       "rspberry        88\n",
       "ornge           87\n",
       "bnn             86\n",
       "pple            85\n",
       "durin           78\n",
       "Name: Fruit_Ate, dtype: int64"
      ]
     },
     "execution_count": 19,
     "metadata": {},
     "output_type": "execute_result"
    }
   ],
   "source": [
    "# counting occurence of each different fruit:\n",
    "score.Fruit_Ate.value_counts(dropna=False)"
   ]
  },
  {
   "cell_type": "markdown",
   "metadata": {},
   "source": [
    "Now we need to fix the spelling mistakes, so we will create a list to store the correct names for fruits, then we will create a new column to store the fixed names and lastly we will add the correct names into this new column:"
   ]
  },
  {
   "cell_type": "code",
   "execution_count": 20,
   "metadata": {
    "collapsed": true
   },
   "outputs": [],
   "source": [
    "# fruits list to store the name of the fruits\n",
    "fruits = ['kiwi',\n",
    "          'lychee',\n",
    "          'raspberry',\n",
    "          'rockmelon',\n",
    "          'peach',\n",
    "          'pear',\n",
    "          'apple',\n",
    "          'grape',\n",
    "          'logan',\n",
    "          'orange',\n",
    "          'durian',\n",
    "          'strawberry',\n",
    "          'watermelon',\n",
    "          'jackfruit',\n",
    "          'banana',\n",
    "          'nectarine']"
   ]
  },
  {
   "cell_type": "code",
   "execution_count": 21,
   "metadata": {},
   "outputs": [
    {
     "data": {
      "text/plain": [
       "kiwi          2303\n",
       "lychee        2275\n",
       "raspberry     2257\n",
       "rockmelon     2256\n",
       "peach         2232\n",
       "pear          2217\n",
       "apple         2215\n",
       "grape         2211\n",
       "logan         2206\n",
       "orange        2202\n",
       "durian        2183\n",
       "strawberry    2172\n",
       "watermelon    2151\n",
       "jackfruit     2126\n",
       "banana        2119\n",
       "nectarine     2099\n",
       "              1049\n",
       "logn           113\n",
       "grpe           106\n",
       "jckfruit       105\n",
       "pech           105\n",
       "per             98\n",
       "strwberry       95\n",
       "nectrine        91\n",
       "wtermelon       90\n",
       "rspberry        88\n",
       "ornge           87\n",
       "bnn             86\n",
       "pple            85\n",
       "durin           78\n",
       "Name: Fruit_Ate_New, dtype: int64"
      ]
     },
     "execution_count": 21,
     "metadata": {},
     "output_type": "execute_result"
    }
   ],
   "source": [
    "# changing missing values from np.nan to empty string \"\"\n",
    "score['Fruit_Ate'] = score['Fruit_Ate'].fillna(\"\")\n",
    "\n",
    "# creating a new column to store the corrected names:\n",
    "score['Fruit_Ate_New'] = score['Fruit_Ate'] \n",
    "\n",
    "\n",
    "# checking if it worked as expected\n",
    "score.Fruit_Ate_New.value_counts(dropna=False)"
   ]
  },
  {
   "cell_type": "code",
   "execution_count": 22,
   "metadata": {},
   "outputs": [
    {
     "data": {
      "text/html": [
       "<div>\n",
       "<style>\n",
       "    .dataframe thead tr:only-child th {\n",
       "        text-align: right;\n",
       "    }\n",
       "\n",
       "    .dataframe thead th {\n",
       "        text-align: left;\n",
       "    }\n",
       "\n",
       "    .dataframe tbody tr th {\n",
       "        vertical-align: top;\n",
       "    }\n",
       "</style>\n",
       "<table border=\"1\" class=\"dataframe\">\n",
       "  <thead>\n",
       "    <tr style=\"text-align: right;\">\n",
       "      <th></th>\n",
       "      <th>Fruit_Ate</th>\n",
       "      <th>Name</th>\n",
       "      <th>Why_Eat</th>\n",
       "      <th>Where_Eat</th>\n",
       "      <th>How_Fast_Eat</th>\n",
       "      <th>Time_Eatten</th>\n",
       "      <th>Score</th>\n",
       "      <th>Fruit_Ate_New</th>\n",
       "    </tr>\n",
       "  </thead>\n",
       "  <tbody>\n",
       "    <tr>\n",
       "      <th>0</th>\n",
       "      <td>lychee</td>\n",
       "      <td>jacky</td>\n",
       "      <td>lunch or dinner substitute</td>\n",
       "      <td>home</td>\n",
       "      <td>NaN</td>\n",
       "      <td>4.0</td>\n",
       "      <td>44458.971819</td>\n",
       "      <td></td>\n",
       "    </tr>\n",
       "    <tr>\n",
       "      <th>1</th>\n",
       "      <td>strawberry</td>\n",
       "      <td>nicholai</td>\n",
       "      <td>yummy so ate it</td>\n",
       "      <td>family</td>\n",
       "      <td>normally</td>\n",
       "      <td>4.0</td>\n",
       "      <td>24223.130916</td>\n",
       "      <td>strawberry</td>\n",
       "    </tr>\n",
       "    <tr>\n",
       "      <th>2</th>\n",
       "      <td>nectarine</td>\n",
       "      <td>rachel</td>\n",
       "      <td>hungry so ate anything</td>\n",
       "      <td>hnging out</td>\n",
       "      <td>slowly</td>\n",
       "      <td>5.0</td>\n",
       "      <td>30535.367307</td>\n",
       "      <td>nectarine</td>\n",
       "    </tr>\n",
       "    <tr>\n",
       "      <th>3</th>\n",
       "      <td>lychee</td>\n",
       "      <td>daniel</td>\n",
       "      <td>lunch or dinner substitute</td>\n",
       "      <td>home</td>\n",
       "      <td>normally</td>\n",
       "      <td>7.0</td>\n",
       "      <td>23532.139183</td>\n",
       "      <td>lychee</td>\n",
       "    </tr>\n",
       "    <tr>\n",
       "      <th>4</th>\n",
       "      <td>lychee</td>\n",
       "      <td>daniel</td>\n",
       "      <td>cheapest to buy</td>\n",
       "      <td>guygirl friends place</td>\n",
       "      <td>slowly</td>\n",
       "      <td>14.0</td>\n",
       "      <td>25474.862526</td>\n",
       "      <td>lychee</td>\n",
       "    </tr>\n",
       "  </tbody>\n",
       "</table>\n",
       "</div>"
      ],
      "text/plain": [
       "    Fruit_Ate      Name                     Why_Eat              Where_Eat  \\\n",
       "0      lychee     jacky  lunch or dinner substitute                   home   \n",
       "1  strawberry  nicholai             yummy so ate it                 family   \n",
       "2   nectarine    rachel      hungry so ate anything             hnging out   \n",
       "3      lychee    daniel  lunch or dinner substitute                   home   \n",
       "4      lychee    daniel             cheapest to buy  guygirl friends place   \n",
       "\n",
       "  How_Fast_Eat  Time_Eatten         Score Fruit_Ate_New  \n",
       "0          NaN          4.0  44458.971819                \n",
       "1     normally          4.0  24223.130916    strawberry  \n",
       "2       slowly          5.0  30535.367307     nectarine  \n",
       "3     normally          7.0  23532.139183        lychee  \n",
       "4       slowly         14.0  25474.862526        lychee  "
      ]
     },
     "execution_count": 22,
     "metadata": {},
     "output_type": "execute_result"
    }
   ],
   "source": [
    "fixed_fruits = { fruit : diff.get_close_matches(fruit, fruits, n=1, cutoff=0.6) for fruit in score.Fruit_Ate }\n",
    "\n",
    "try:\n",
    "    score['Fruit_Ate_New'] = update(pd.Series(fixed_fruits))\n",
    "except:\n",
    "    score['Fruit_Ate_New'].update(pd.Series(\"\"))\n",
    "\n",
    "score.head()"
   ]
  },
  {
   "cell_type": "markdown",
   "metadata": {},
   "source": [
    "Analysing the name column to see what it does look like:"
   ]
  },
  {
   "cell_type": "code",
   "execution_count": 23,
   "metadata": {},
   "outputs": [
    {
     "data": {
      "text/plain": [
       "saksham     3980\n",
       "shuning     3976\n",
       "blake       3959\n",
       "nicholai    3955\n",
       "daniel      3850\n",
       "dean        3849\n",
       "jacky       3846\n",
       "rachel      3841\n",
       "richard     3835\n",
       "NaN         1049\n",
       "rchel        193\n",
       "nicholi      182\n",
       "skshm        172\n",
       "den          172\n",
       "richrd       169\n",
       "jcky         159\n",
       "blke         159\n",
       "dniel        154\n",
       "Name: Name, dtype: int64"
      ]
     },
     "execution_count": 23,
     "metadata": {},
     "output_type": "execute_result"
    }
   ],
   "source": [
    "# count the occurence of the same names\n",
    "score.Name.value_counts(dropna=False)"
   ]
  },
  {
   "cell_type": "markdown",
   "metadata": {},
   "source": [
    "Fixing the names:"
   ]
  },
  {
   "cell_type": "code",
   "execution_count": 24,
   "metadata": {},
   "outputs": [
    {
     "data": {
      "text/plain": [
       "saksham     3980\n",
       "shuning     3976\n",
       "blake       3959\n",
       "nicholai    3955\n",
       "daniel      3850\n",
       "dean        3849\n",
       "jacky       3846\n",
       "rachel      3841\n",
       "richard     3835\n",
       "            1049\n",
       "rchel        193\n",
       "nicholi      182\n",
       "skshm        172\n",
       "den          172\n",
       "richrd       169\n",
       "jcky         159\n",
       "blke         159\n",
       "dniel        154\n",
       "Name: Name_copy, dtype: int64"
      ]
     },
     "execution_count": 24,
     "metadata": {},
     "output_type": "execute_result"
    }
   ],
   "source": [
    "names = ['saksham',\n",
    "        'shuning',\n",
    "        'blake',\n",
    "        'nicholai',\n",
    "        'daniel',\n",
    "        'dean',\n",
    "        'jacky',\n",
    "        'rachel',\n",
    "        'richard']\n",
    "\n",
    "\n",
    "# changing missing values from np.nan to empty string \"\"\n",
    "score['Name'] = score['Name'].fillna(\"\")\n",
    "\n",
    "# creating a new column to store the corrected names:\n",
    "score['Name_copy'] = score['Name']\n",
    "\n",
    "# checking if it worked as expected\n",
    "score.Name_copy.value_counts(dropna=False)"
   ]
  },
  {
   "cell_type": "code",
   "execution_count": 25,
   "metadata": {},
   "outputs": [
    {
     "name": "stdout",
     "output_type": "stream",
     "text": [
      "0           [jacky]\n",
      "1        [nicholai]\n",
      "2          [rachel]\n",
      "3          [daniel]\n",
      "4          [daniel]\n",
      "5           [blake]\n",
      "6         [shuning]\n",
      "7        [nicholai]\n",
      "8          [rachel]\n",
      "9         [richard]\n",
      "10           [dean]\n",
      "11        [richard]\n",
      "12        [richard]\n",
      "13         [daniel]\n",
      "14          [jacky]\n",
      "15        [saksham]\n",
      "16         [rachel]\n",
      "17          [blake]\n",
      "18          [blake]\n",
      "19         [rachel]\n",
      "20        [richard]\n",
      "21         [daniel]\n",
      "22       [nicholai]\n",
      "23           [dean]\n",
      "24         [rachel]\n",
      "25        [saksham]\n",
      "26        [shuning]\n",
      "27         [daniel]\n",
      "28        [richard]\n",
      "29          [jacky]\n",
      "            ...    \n",
      "37470     [richard]\n",
      "37471      [daniel]\n",
      "37472     [richard]\n",
      "37473     [saksham]\n",
      "37474     [richard]\n",
      "37475      [rachel]\n",
      "37476     [richard]\n",
      "37477     [shuning]\n",
      "37478      [rachel]\n",
      "37479      [daniel]\n",
      "37480      [rachel]\n",
      "37481      [daniel]\n",
      "37482     [shuning]\n",
      "37483      [rachel]\n",
      "37484       [blake]\n",
      "37485      [daniel]\n",
      "37486     [richard]\n",
      "37487     [shuning]\n",
      "37488     [richard]\n",
      "37489      [rachel]\n",
      "37490     [shuning]\n",
      "37491     [shuning]\n",
      "37492     [saksham]\n",
      "37493    [nicholai]\n",
      "37494    [nicholai]\n",
      "37495       [blake]\n",
      "37496      [rachel]\n",
      "37497     [shuning]\n",
      "37498      [daniel]\n",
      "37499      [daniel]\n",
      "Name: Name_copy, Length: 37500, dtype: object\n"
     ]
    }
   ],
   "source": [
    "fixed_names = { name : diff.get_close_matches(name, names, n=1, cutoff=0.6) for name in score.Name }\n",
    "\n",
    "try:\n",
    "    score['Name_copy'] = score['Name'].map(fixed_names)\n",
    "except:\n",
    "    score['Name_copy'] = score['Name'].update(pd.Series(\"\"))\n",
    "\n",
    "print(score.Name_copy)\n",
    "# score.Name_copy.value_counts(dropna=False)"
   ]
  },
  {
   "cell_type": "markdown",
   "metadata": {},
   "source": [
    "Analysing the How_Fast_Eat column:"
   ]
  },
  {
   "cell_type": "code",
   "execution_count": 26,
   "metadata": {},
   "outputs": [
    {
     "data": {
      "text/plain": [
       "quickly     12225\n",
       "slowly      11961\n",
       "normally    11758\n",
       "NaN          1055\n",
       "normlly       501\n",
       "Name: How_Fast_Eat, dtype: int64"
      ]
     },
     "execution_count": 26,
     "metadata": {},
     "output_type": "execute_result"
    }
   ],
   "source": [
    "# checking frequency of values in eating_velocity column:\n",
    "score.How_Fast_Eat.value_counts(dropna=False)"
   ]
  },
  {
   "cell_type": "markdown",
   "metadata": {},
   "source": [
    "Dropping non aphanumeric characters in How_Fast_Eat column and changing Nan to \"\":"
   ]
  },
  {
   "cell_type": "code",
   "execution_count": 27,
   "metadata": {},
   "outputs": [
    {
     "data": {
      "text/plain": [
       "quickly     12225\n",
       "slowly      11961\n",
       "normally    11758\n",
       "             1055\n",
       "normlly       501\n",
       "Name: How_Fast_Eat, dtype: int64"
      ]
     },
     "execution_count": 27,
     "metadata": {},
     "output_type": "execute_result"
    }
   ],
   "source": [
    "score['How_Fast_Eat'] = score['How_Fast_Eat'].fillna(\"\")\n",
    "\n",
    "score.How_Fast_Eat.value_counts()"
   ]
  },
  {
   "cell_type": "markdown",
   "metadata": {},
   "source": [
    "Now we change the spelling mistake in How_Fast_Eat where it is equal \"normlly\" into \"normally\""
   ]
  },
  {
   "cell_type": "code",
   "execution_count": 28,
   "metadata": {},
   "outputs": [
    {
     "data": {
      "text/plain": [
       "normally    12259\n",
       "quickly     12225\n",
       "slowly      11961\n",
       "             1055\n",
       "Name: How_Fast_Eat, dtype: int64"
      ]
     },
     "execution_count": 28,
     "metadata": {},
     "output_type": "execute_result"
    }
   ],
   "source": [
    "score[score.How_Fast_Eat == 'normlly'] = 'normally'\n",
    "\n",
    "score.How_Fast_Eat.value_counts(dropna=False)"
   ]
  },
  {
   "cell_type": "markdown",
   "metadata": {},
   "source": [
    "Now I want to clean Why_Eat column. Cheking the frequency counts of each different entry:"
   ]
  },
  {
   "cell_type": "code",
   "execution_count": 29,
   "metadata": {},
   "outputs": [
    {
     "data": {
      "text/plain": [
       "stressed from tests           5183\n",
       "nothing else to eat           4996\n",
       "lunch or dinner substitute    4993\n",
       "hungry so ate anything        4979\n",
       "forced to eat it              4929\n",
       "yummy so ate it               4925\n",
       "cheapest to buy               4886\n",
       "normally                       501\n",
       "nothing else to et             234\n",
       "hungry so te nything           229\n",
       "forced to et it                213\n",
       "yummy so te it                 207\n",
       "chepest to buy                 193\n",
       "Name: Why_Eat, dtype: int64"
      ]
     },
     "execution_count": 29,
     "metadata": {},
     "output_type": "execute_result"
    }
   ],
   "source": [
    "# checking the frequency counts of each entry:\n",
    "score.Why_Eat.value_counts()"
   ]
  },
  {
   "cell_type": "code",
   "execution_count": 30,
   "metadata": {
    "scrolled": true
   },
   "outputs": [
    {
     "data": {
      "text/plain": [
       "stressed from tests           5183\n",
       "nothing else to eat           4996\n",
       "lunch or dinner substitute    4993\n",
       "hungry so ate anything        4979\n",
       "forced to eat it              4929\n",
       "yummy so ate it               4925\n",
       "cheapest to buy               4886\n",
       "                              1032\n",
       "normally                       501\n",
       "nothing else to et             234\n",
       "hungry so te nything           229\n",
       "forced to et it                213\n",
       "yummy so te it                 207\n",
       "chepest to buy                 193\n",
       "Name: why_eat_copy, dtype: int64"
      ]
     },
     "execution_count": 30,
     "metadata": {},
     "output_type": "execute_result"
    }
   ],
   "source": [
    "why_eat = ['stressed from tests',\n",
    "        'nothing else to eat',\n",
    "        'lunch or dinner substitute',\n",
    "        'hungry so ate anything',\n",
    "        'forced to eat it',\n",
    "        'yummy so ate it',\n",
    "        'cheapest to buy',\n",
    "        'normally']\n",
    "\n",
    "\n",
    "# changing missing values from np.nan to empty string \"\"\n",
    "score['Why_Eat'] = score['Why_Eat'].fillna(\"\")\n",
    "\n",
    "# creating a new column to store the corrected reason for eatting:\n",
    "score['why_eat_copy'] = score['Why_Eat']\n",
    "\n",
    "# checking if it worked as expected\n",
    "score.why_eat_copy.value_counts(dropna=False)"
   ]
  },
  {
   "cell_type": "code",
   "execution_count": 33,
   "metadata": {},
   "outputs": [
    {
     "name": "stdout",
     "output_type": "stream",
     "text": [
      "0        [lunch or dinner substitute]\n",
      "1                   [yummy so ate it]\n",
      "2            [hungry so ate anything]\n",
      "3        [lunch or dinner substitute]\n",
      "4                   [cheapest to buy]\n",
      "5                  [forced to eat it]\n",
      "6        [lunch or dinner substitute]\n",
      "7                   [yummy so ate it]\n",
      "8                  [forced to eat it]\n",
      "9            [hungry so ate anything]\n",
      "10                  [yummy so ate it]\n",
      "11                  [yummy so ate it]\n",
      "12                 [forced to eat it]\n",
      "13                  [cheapest to buy]\n",
      "14                  [cheapest to buy]\n",
      "15                 [forced to eat it]\n",
      "16              [nothing else to eat]\n",
      "17       [lunch or dinner substitute]\n",
      "18                         [normally]\n",
      "19                 [forced to eat it]\n",
      "20                 [forced to eat it]\n",
      "21                                 []\n",
      "22                  [yummy so ate it]\n",
      "23                  [yummy so ate it]\n",
      "24           [hungry so ate anything]\n",
      "25              [stressed from tests]\n",
      "26                  [cheapest to buy]\n",
      "27                  [cheapest to buy]\n",
      "28       [lunch or dinner substitute]\n",
      "29                 [forced to eat it]\n",
      "                     ...             \n",
      "37470              [forced to eat it]\n",
      "37471               [cheapest to buy]\n",
      "37472               [cheapest to buy]\n",
      "37473           [stressed from tests]\n",
      "37474        [hungry so ate anything]\n",
      "37475        [hungry so ate anything]\n",
      "37476    [lunch or dinner substitute]\n",
      "37477           [stressed from tests]\n",
      "37478               [yummy so ate it]\n",
      "37479           [nothing else to eat]\n",
      "37480           [stressed from tests]\n",
      "37481    [lunch or dinner substitute]\n",
      "37482           [stressed from tests]\n",
      "37483    [lunch or dinner substitute]\n",
      "37484              [forced to eat it]\n",
      "37485           [nothing else to eat]\n",
      "37486           [nothing else to eat]\n",
      "37487           [nothing else to eat]\n",
      "37488               [cheapest to buy]\n",
      "37489               [yummy so ate it]\n",
      "37490               [cheapest to buy]\n",
      "37491              [forced to eat it]\n",
      "37492               [cheapest to buy]\n",
      "37493    [lunch or dinner substitute]\n",
      "37494        [hungry so ate anything]\n",
      "37495        [hungry so ate anything]\n",
      "37496               [cheapest to buy]\n",
      "37497           [nothing else to eat]\n",
      "37498        [hungry so ate anything]\n",
      "37499               [yummy so ate it]\n",
      "Name: why_eat_copy, Length: 37500, dtype: object\n"
     ]
    }
   ],
   "source": [
    "fixed_reason = { reason : diff.get_close_matches(reason, why_eat, n=1, cutoff=0.6) for reason in score.Why_Eat }\n",
    "\n",
    "try:\n",
    "    score['why_eat_copy'] = score['Why_Eat'].map(fixed_reason)\n",
    "except:\n",
    "    score['why_eat_copy'] = score['Why_Eat'].update(pd.Series(\"\"))\n",
    "\n",
    "print(score.why_eat_copy)"
   ]
  },
  {
   "cell_type": "markdown",
   "metadata": {},
   "source": [
    "Checking the final outcome:"
   ]
  },
  {
   "cell_type": "code",
   "execution_count": 35,
   "metadata": {},
   "outputs": [
    {
     "data": {
      "text/html": [
       "<div>\n",
       "<style>\n",
       "    .dataframe thead tr:only-child th {\n",
       "        text-align: right;\n",
       "    }\n",
       "\n",
       "    .dataframe thead th {\n",
       "        text-align: left;\n",
       "    }\n",
       "\n",
       "    .dataframe tbody tr th {\n",
       "        vertical-align: top;\n",
       "    }\n",
       "</style>\n",
       "<table border=\"1\" class=\"dataframe\">\n",
       "  <thead>\n",
       "    <tr style=\"text-align: right;\">\n",
       "      <th></th>\n",
       "      <th>Fruit_Ate</th>\n",
       "      <th>Name</th>\n",
       "      <th>Why_Eat</th>\n",
       "      <th>Where_Eat</th>\n",
       "      <th>How_Fast_Eat</th>\n",
       "      <th>Time_Eatten</th>\n",
       "      <th>Score</th>\n",
       "      <th>Fruit_Ate_New</th>\n",
       "      <th>Name_copy</th>\n",
       "      <th>why_eat_copy</th>\n",
       "    </tr>\n",
       "  </thead>\n",
       "  <tbody>\n",
       "    <tr>\n",
       "      <th>0</th>\n",
       "      <td>lychee</td>\n",
       "      <td>jacky</td>\n",
       "      <td>lunch or dinner substitute</td>\n",
       "      <td>home</td>\n",
       "      <td></td>\n",
       "      <td>4</td>\n",
       "      <td>44459</td>\n",
       "      <td></td>\n",
       "      <td>[jacky]</td>\n",
       "      <td>[lunch or dinner substitute]</td>\n",
       "    </tr>\n",
       "    <tr>\n",
       "      <th>1</th>\n",
       "      <td>strawberry</td>\n",
       "      <td>nicholai</td>\n",
       "      <td>yummy so ate it</td>\n",
       "      <td>family</td>\n",
       "      <td>normally</td>\n",
       "      <td>4</td>\n",
       "      <td>24223.1</td>\n",
       "      <td>strawberry</td>\n",
       "      <td>[nicholai]</td>\n",
       "      <td>[yummy so ate it]</td>\n",
       "    </tr>\n",
       "    <tr>\n",
       "      <th>2</th>\n",
       "      <td>nectarine</td>\n",
       "      <td>rachel</td>\n",
       "      <td>hungry so ate anything</td>\n",
       "      <td>hnging out</td>\n",
       "      <td>slowly</td>\n",
       "      <td>5</td>\n",
       "      <td>30535.4</td>\n",
       "      <td>nectarine</td>\n",
       "      <td>[rachel]</td>\n",
       "      <td>[hungry so ate anything]</td>\n",
       "    </tr>\n",
       "    <tr>\n",
       "      <th>3</th>\n",
       "      <td>lychee</td>\n",
       "      <td>daniel</td>\n",
       "      <td>lunch or dinner substitute</td>\n",
       "      <td>home</td>\n",
       "      <td>normally</td>\n",
       "      <td>7</td>\n",
       "      <td>23532.1</td>\n",
       "      <td>lychee</td>\n",
       "      <td>[daniel]</td>\n",
       "      <td>[lunch or dinner substitute]</td>\n",
       "    </tr>\n",
       "    <tr>\n",
       "      <th>4</th>\n",
       "      <td>lychee</td>\n",
       "      <td>daniel</td>\n",
       "      <td>cheapest to buy</td>\n",
       "      <td>guygirl friends place</td>\n",
       "      <td>slowly</td>\n",
       "      <td>14</td>\n",
       "      <td>25474.9</td>\n",
       "      <td>lychee</td>\n",
       "      <td>[daniel]</td>\n",
       "      <td>[cheapest to buy]</td>\n",
       "    </tr>\n",
       "  </tbody>\n",
       "</table>\n",
       "</div>"
      ],
      "text/plain": [
       "    Fruit_Ate      Name                     Why_Eat              Where_Eat  \\\n",
       "0      lychee     jacky  lunch or dinner substitute                   home   \n",
       "1  strawberry  nicholai             yummy so ate it                 family   \n",
       "2   nectarine    rachel      hungry so ate anything             hnging out   \n",
       "3      lychee    daniel  lunch or dinner substitute                   home   \n",
       "4      lychee    daniel             cheapest to buy  guygirl friends place   \n",
       "\n",
       "  How_Fast_Eat Time_Eatten    Score Fruit_Ate_New   Name_copy  \\\n",
       "0                        4    44459                   [jacky]   \n",
       "1     normally           4  24223.1    strawberry  [nicholai]   \n",
       "2       slowly           5  30535.4     nectarine    [rachel]   \n",
       "3     normally           7  23532.1        lychee    [daniel]   \n",
       "4       slowly          14  25474.9        lychee    [daniel]   \n",
       "\n",
       "                   why_eat_copy  \n",
       "0  [lunch or dinner substitute]  \n",
       "1             [yummy so ate it]  \n",
       "2      [hungry so ate anything]  \n",
       "3  [lunch or dinner substitute]  \n",
       "4             [cheapest to buy]  "
      ]
     },
     "execution_count": 35,
     "metadata": {},
     "output_type": "execute_result"
    }
   ],
   "source": [
    "score.head()"
   ]
  },
  {
   "cell_type": "markdown",
   "metadata": {},
   "source": [
    "From that we see that the data cleaning is almost completed, but there still room for improvements. "
   ]
  }
 ],
 "metadata": {
  "kernelspec": {
   "display_name": "Python 3",
   "language": "python",
   "name": "python3"
  },
  "language_info": {
   "codemirror_mode": {
    "name": "ipython",
    "version": 3
   },
   "file_extension": ".py",
   "mimetype": "text/x-python",
   "name": "python",
   "nbconvert_exporter": "python",
   "pygments_lexer": "ipython3",
   "version": "3.6.3"
  }
 },
 "nbformat": 4,
 "nbformat_minor": 2
}
